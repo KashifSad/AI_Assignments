{
 "cells": [
  {
   "cell_type": "markdown",
   "metadata": {},
   "source": [
    "# User input"
   ]
  },
  {
   "cell_type": "raw",
   "metadata": {},
   "source": [
    "1. Take a sentence input from user using input function. Count occurence of a particular character/word in the sentence and print the message that the character appear this many times in the sentence.\n",
    "Like if user inputs> \"My name is Sana. I am an undergraduate student. I am learning Artificial Intellegence in PIAIC\"\n",
    "Your output should be:\n",
    "    I appears 5 times in your sentence\n",
    "Hint: nahi batounga use string methods.\n",
    "Note: Sana is a boy. His full name is SanaUllah😄"
   ]
  },
  {
   "cell_type": "code",
   "execution_count": 7,
   "metadata": {},
   "outputs": [
    {
     "name": "stdout",
     "output_type": "stream",
     "text": [
      "Enter a sentenceMy name is Sana. I am an undergraduate student. I am learning Artificial Intellegence in PIAIC\n",
      "I is appear 5 times\n"
     ]
    }
   ],
   "source": [
    "sen = input(\"Enter a sentence\").count(\"I\")\n",
    "print(f\"I is appear {sen} times\")"
   ]
  },
  {
   "cell_type": "code",
   "execution_count": 17,
   "metadata": {},
   "outputs": [
    {
     "name": "stdout",
     "output_type": "stream",
     "text": [
      "Enter a sentenceMy name is Sana. I am an undergraduate student. I am learning Artificial Intellegence in PIAIC\n",
      "I is appear 5 times\n"
     ]
    }
   ],
   "source": [
    "sen = input(\"Enter a sentence\").count(\"I\")\n",
    "print(\"I is appear\", sen ,\"times\")"
   ]
  },
  {
   "cell_type": "raw",
   "metadata": {},
   "source": [
    "2. Take a number input from user and print the square of that number. \n",
    "\n",
    "if a user inputs 10 Your output should be like:\n",
    "    The square of 10 is 100\n",
    "if a user inputs 5 Your output should be like:\n",
    "    The square of 5 is 25\n",
    "if a user inputs 2 Your output should be like:\n",
    "    The square of 2 is 4\n"
   ]
  },
  {
   "cell_type": "code",
   "execution_count": 4,
   "metadata": {},
   "outputs": [
    {
     "name": "stdout",
     "output_type": "stream",
     "text": [
      "Enter a number2\n",
      "4\n"
     ]
    }
   ],
   "source": [
    "num = int(input(\"Enter a number\"))\n",
    "square = num**2\n",
    "print(square)"
   ]
  },
  {
   "cell_type": "raw",
   "metadata": {},
   "source": [
    "3. Take two inputs from user using two input functions add these two numbers and print the result.\n",
    "For example if a user inputs 10 in first input, 20 in second input then your output mustbe like:\n",
    "    The sum of 10 and 20 is 30\n",
    "    \n",
    "For example if a user inputs 12 in first input, 30 in second input then your output mustbe like:\n",
    "    The sum of 12 and 30 is 42\n",
    "\n",
    "For example if a user inputs 100 in first input, 200 in second input then your out put mustbe like:\n",
    "    The sum of 100 and 200 is 300"
   ]
  },
  {
   "cell_type": "code",
   "execution_count": 20,
   "metadata": {},
   "outputs": [
    {
     "name": "stdout",
     "output_type": "stream",
     "text": [
      "Enter first number12\n",
      "Enter first number30\n",
      "42\n"
     ]
    }
   ],
   "source": [
    "num1 = int(input(\"Enter first number\"))\n",
    "num2 = int(input(\"Enter first number\"))\n",
    "print(num1 + num2)"
   ]
  },
  {
   "cell_type": "raw",
   "metadata": {},
   "source": [
    "4. Format a string to display a card like string:\n",
    "    \n",
    "            Presidential Initiative for AI & Computing\n",
    "                          ID CARD\n",
    "            Student Name   : Asad Ali\n",
    "            Father Name    : Amjad Ali\n",
    "            Date of Birth  : 01-01-2000\n",
    "            Course Enrolled: Artificial Intelligence\n",
    "            Batch          : 2022\n",
    "            Day            : Saturday \n",
    "            Centre         : Sir Syed University of Engg and Technology\n",
    "                \n",
    "Note: all the field values must be taken as user inputs and stored in variable"
   ]
  },
  {
   "cell_type": "code",
   "execution_count": 1,
   "metadata": {},
   "outputs": [
    {
     "name": "stdout",
     "output_type": "stream",
     "text": [
      "Enter student name Kashif\n",
      "Enter father name Sadiq\n",
      "Enter date of birth 10-08-2022\n",
      "Enter course name Artificial Intelligence\n",
      "Enter batch number 36\n",
      "Enter a day Saturday\n",
      "Enter a centre name Sir Syed UNiversity\n",
      "\n",
      "            Presidential Initiative for AI & Computing\n",
      "                            ID CARD   \n",
      "                            \n",
      "            Student Name    : Kashif\n",
      "            Father Name     : Sadiq\n",
      "            Date of Birth   : 10-08-2022\n",
      "            Course Enrolled : Artificial Intelligence\n",
      "            Batch           : 36\n",
      "            Day             : Saturday\n",
      "            Centre          : Sir Syed UNiversity\n",
      "\n"
     ]
    }
   ],
   "source": [
    "st_name       = input(\"Enter student name \")\n",
    "f_name        = input(\"Enter father name \")\n",
    "date_of_birth = input(\"Enter date of birth \")\n",
    "course        = input(\"Enter course name \")\n",
    "batch         = int(input(\"Enter batch number \"))\n",
    "day           = input(\"Enter a day \")\n",
    "centre        = input(\"Enter a centre name \")\n",
    "\n",
    "\n",
    "print(f\"\"\"\n",
    "            Presidential Initiative for AI & Computing\n",
    "                            ID CARD   \n",
    "                            \n",
    "            Student Name    : {st_name}\n",
    "            Father Name     : {f_name}\n",
    "            Date of Birth   : {date_of_birth}\n",
    "            Course Enrolled : {course}\n",
    "            Batch           : {batch}\n",
    "            Day             : {day}\n",
    "            Centre          : {centre}\n",
    "\"\"\")"
   ]
  }
 ],
 "metadata": {
  "kernelspec": {
   "display_name": "Python 3",
   "language": "python",
   "name": "python3"
  },
  "language_info": {
   "codemirror_mode": {
    "name": "ipython",
    "version": 3
   },
   "file_extension": ".py",
   "mimetype": "text/x-python",
   "name": "python",
   "nbconvert_exporter": "python",
   "pygments_lexer": "ipython3",
   "version": "3.7.0"
  }
 },
 "nbformat": 4,
 "nbformat_minor": 5
}
