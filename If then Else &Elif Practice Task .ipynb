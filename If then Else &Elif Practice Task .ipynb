{
 "cells": [
  {
   "cell_type": "raw",
   "metadata": {
    "id": "8rksu2_jMVjQ"
   },
   "source": [
    "1) A company decided to give bonus of 5% to employee if his/her year of service is more than 5 years.\n",
    "Ask user for their salary and year of service and print the net bonus amount."
   ]
  },
  {
   "cell_type": "code",
   "execution_count": 9,
   "metadata": {
    "id": "_GRPHPiLMVjX"
   },
   "outputs": [
    {
     "name": "stdout",
     "output_type": "stream",
     "text": [
      "Enter a current salary 5000\n",
      "Enter service of year6\n",
      "\n",
      "\n",
      "    Old Salary : 5000\n",
      "    Bonus amount : 250.0\n",
      "    New Salary  : 5250.0\n",
      "      \n",
      "      \n",
      "      \n",
      "          \n"
     ]
    }
   ],
   "source": [
    "current_salary = int(input(\"Enter a current salary \"))\n",
    "year_of_service = int(input(\"Enter service of year\"))\n",
    "\n",
    "if year_of_service > 5:\n",
    "    bonus_amount = current_salary *.05\n",
    "    new_salary   = current_salary + bonus_amount\n",
    "    \n",
    "else:\n",
    "    bonus_amount = 0\n",
    "    new_salary = current_salary\n",
    "    \n",
    "print(f'''\n",
    "\n",
    "    Old Salary : {current_salary}\n",
    "    Bonus amount : {bonus_amount}\n",
    "    New Salary  : {new_salary}\n",
    "      \n",
    "      \n",
    "      \n",
    "          ''')"
   ]
  },
  {
   "cell_type": "markdown",
   "metadata": {
    "id": "iXt5RVcjMVja"
   },
   "source": [
    "\n",
    "2) Write a program to check whether a person is eligible for voting or not. (accept age from user)"
   ]
  },
  {
   "cell_type": "code",
   "execution_count": 13,
   "metadata": {
    "id": "jXVCvia3MVjh"
   },
   "outputs": [
    {
     "name": "stdout",
     "output_type": "stream",
     "text": [
      "20\n",
      "You are eligible for voting\n"
     ]
    }
   ],
   "source": [
    "voter_age = int(input(\"\"))\n",
    "status = None\n",
    "\n",
    "if voter_age > 18:\n",
    "    status = \"You are eligible for voting\"\n",
    "    \n",
    "else:\n",
    "    status = \"You are not eligible for voting this year\"\n",
    "    \n",
    "print(status)"
   ]
  },
  {
   "cell_type": "markdown",
   "metadata": {
    "id": "IkNM7QpCMVjj"
   },
   "source": [
    "\n",
    "3) Write a program to check whether a number entered by user is even or odd."
   ]
  },
  {
   "cell_type": "code",
   "execution_count": 15,
   "metadata": {
    "id": "-GxviwByMVjl"
   },
   "outputs": [
    {
     "name": "stdout",
     "output_type": "stream",
     "text": [
      "4\n",
      "4 is even number\n"
     ]
    }
   ],
   "source": [
    "num = int(input())\n",
    "\n",
    "if num % 2 == 0:\n",
    "    print(f\"{num} is even number\")\n",
    "    \n",
    "else:\n",
    "    print(f\"{num} is odd number\")"
   ]
  },
  {
   "cell_type": "markdown",
   "metadata": {
    "id": "_jEHjkfdMVjm"
   },
   "source": [
    "4) Write a program to check whether a number is divisible by 7 or not.\n",
    "Show Answer"
   ]
  },
  {
   "cell_type": "code",
   "execution_count": 19,
   "metadata": {
    "id": "IRNXyG1GMVjo"
   },
   "outputs": [
    {
     "name": "stdout",
     "output_type": "stream",
     "text": [
      "35\n",
      "35 is divisible by 7\n"
     ]
    }
   ],
   "source": [
    "num = int(input(\"\"))\n",
    "if num % 7 == 0:\n",
    "    print(f\"{num} is divisible by 7\")\n",
    "          \n",
    "else:\n",
    "    print(f\"{num} is not divisible by 7\")"
   ]
  },
  {
   "cell_type": "raw",
   "metadata": {
    "id": "XxfyVe4kMVjp"
   },
   "source": [
    "5) Write a program to display \n",
    "\"Hello\" if a number entered by user is a multiple of five , otherwise print \"Bye\"."
   ]
  },
  {
   "cell_type": "code",
   "execution_count": 43,
   "metadata": {
    "id": "Ixnz4R4TMVjr"
   },
   "outputs": [
    {
     "name": "stdout",
     "output_type": "stream",
     "text": [
      "Enter a number12\n",
      "Bye\n"
     ]
    }
   ],
   "source": [
    "number = int(input(\"Enter a number\"))\n",
    "if number%5 == 0:\n",
    "    print(\"Hello\")\n",
    "    \n",
    "else:\n",
    "    print(\"Bye\")"
   ]
  },
  {
   "cell_type": "raw",
   "metadata": {
    "id": "qfzRUUwOMVjs"
   },
   "source": [
    "6) Write a program to calculate the electricity bill (accept number of unit from user) according to the following criteria :\n",
    "     Unit                                                     Price  \n",
    "uptp 100 units                                             no charge\n",
    "Next 200 units                                              Rs 5 per unit\n",
    "After 200 units                                             Rs 10 per unit\n",
    "(For example if input unit is 350 than total bill amount is Rs.3500\n",
    "(For example if input unit is 97 than total bill amount is Rs.0\n",
    "(For example if input unit is 150 than total bill amount is Rs.750"
   ]
  },
  {
   "cell_type": "code",
   "execution_count": 34,
   "metadata": {
    "id": "1BY1oAIpMVju"
   },
   "outputs": [
    {
     "name": "stdout",
     "output_type": "stream",
     "text": [
      "Enter a number of comsumed units502\n",
      "\n",
      "\n",
      "        Electricity Bill\n",
      "\n",
      "Units Consumed : 502\n",
      "Billed Units   : 2\n",
      "Per Unit Price : 50\n",
      "Bill amount    : 3600\n",
      "\n",
      "\n"
     ]
    }
   ],
   "source": [
    "units_consumed = int(input(\"Enter a number of comsumed units\"))\n",
    "bill_amount = 0\n",
    "per_unit_price = None\n",
    "\n",
    "if units_consumed <= 100:\n",
    "    billed_units = units_consumed \n",
    "    per_unit_price = 0\n",
    "    bill_amount = billed_units*per_unit_price\n",
    "    \n",
    "elif units_consumed > 100 and units_consumed <= 200:\n",
    "    billed_units = units_consumed - 100\n",
    "    per_unit_price = 5\n",
    "    bill_amount = billed_units*per_unit_price + (100-0)*0\n",
    "    \n",
    "elif units_consumed > 200 and units_consumed <=500:\n",
    "    billed_units = units_consumed - 200\n",
    "    per_unit_price = 10\n",
    "    bill_amount = billed_units *per_unit_price + (100-0)*0  + (200-100)*5\n",
    "    \n",
    "else:\n",
    "    per_unit_price = 50\n",
    "    billed_units = units_consumed - 500\n",
    "    bill_amount = billed_units * per_unit_price + (100-0)*0  + (200-100)*5 + (500-200)*10\n",
    "    \n",
    "    \n",
    "    \n",
    "print(f\"\"\"\n",
    "\n",
    "        Electricity Bill\n",
    "\n",
    "Units Consumed : {units_consumed}\n",
    "Billed Units   : {billed_units}\n",
    "Per Unit Price : {per_unit_price}\n",
    "Bill amount    : {bill_amount}\n",
    "\n",
    "\"\"\")"
   ]
  },
  {
   "cell_type": "raw",
   "metadata": {
    "id": "msAIDMRDMVjv"
   },
   "source": [
    "7) Write a program to display the last digit of a number.\n"
   ]
  },
  {
   "cell_type": "code",
   "execution_count": 21,
   "metadata": {
    "id": "VQwLuGzbMVjv"
   },
   "outputs": [
    {
     "name": "stdout",
     "output_type": "stream",
     "text": [
      "678\n",
      "8\n"
     ]
    }
   ],
   "source": [
    "number = int(input())\n",
    "last_digit = number % 10\n",
    "\n",
    "print(last_digit)"
   ]
  },
  {
   "cell_type": "raw",
   "metadata": {
    "id": "UeLHzVZ_MVjw"
   },
   "source": [
    "\n",
    "Q8. Write a program to check whether the last digit of a number( entered by user ) is \n",
    "divisible by 3 or not."
   ]
  },
  {
   "cell_type": "code",
   "execution_count": 37,
   "metadata": {
    "id": "KiQ5wnc6MVjx"
   },
   "outputs": [
    {
     "name": "stdout",
     "output_type": "stream",
     "text": [
      "36\n",
      "6 This last digit is divisible by 3\n"
     ]
    }
   ],
   "source": [
    "number = int(input())\n",
    "last_digit = number % 10\n",
    "\n",
    "if last_digit%3 == 0:\n",
    "    print(last_digit,\"This last digit is divisible by 3\")\n",
    "    \n",
    "else:\n",
    "    print(last_digit,\"This last digit is not divisible by 3\")"
   ]
  },
  {
   "cell_type": "raw",
   "metadata": {
    "id": "CR4sMmRgMVjy"
   },
   "source": [
    "9) Take values of length and breadth of a rectangle from user and check if it is square or not."
   ]
  },
  {
   "cell_type": "code",
   "execution_count": 24,
   "metadata": {
    "id": "Oj1MT5fCMVjy"
   },
   "outputs": [
    {
     "name": "stdout",
     "output_type": "stream",
     "text": [
      "10\n",
      "10\n",
      "this is a sqaure\n"
     ]
    }
   ],
   "source": [
    "leng = int(input())\n",
    "bre = int(input())\n",
    "\n",
    "if leng == bre:\n",
    "    print(\"this is a sqaure\")\n",
    "    \n",
    "else:\n",
    "    print(\"this is  not a sqaure\")"
   ]
  },
  {
   "cell_type": "raw",
   "metadata": {
    "id": "B2e5VYbiMVjz"
   },
   "source": [
    "10) Take two int values from user and print greatest among them."
   ]
  },
  {
   "cell_type": "code",
   "execution_count": 27,
   "metadata": {
    "id": "LyYYL78HMVj0"
   },
   "outputs": [
    {
     "name": "stdout",
     "output_type": "stream",
     "text": [
      "67\n",
      "12\n",
      "67 is greatest than 12\n"
     ]
    }
   ],
   "source": [
    "num1 = int(input())\n",
    "num2 = int(input())\n",
    "\n",
    "if num1 > num2:\n",
    "    print(f\"{num1} is greatest than {num2}\")\n",
    "    \n",
    "else:\n",
    "    print(f\"{num2} is greatest than {num1}\")"
   ]
  },
  {
   "cell_type": "raw",
   "metadata": {
    "id": "R9gMEjdQMVj1"
   },
   "source": [
    "11) A shop will give discount of 10% if the cost of purchased quantity is more than 1000.\n",
    "Ask user for quantity\n",
    "Suppose, one unit will cost 100.\n",
    "Judge and print total cost for user."
   ]
  },
  {
   "cell_type": "code",
   "execution_count": 12,
   "metadata": {
    "id": "hjvEnOzxMVj2"
   },
   "outputs": [
    {
     "name": "stdout",
     "output_type": "stream",
     "text": [
      "11\n",
      "\n",
      "    Without Discount Cost : 1100\n",
      "    Per quantity Price : 100\n",
      "    Quantity           : 11\n",
      "    Discount           : 110.0\n",
      "    Final amount       : 990.0\n",
      "\n",
      "\n",
      "\n"
     ]
    }
   ],
   "source": [
    "per_quantity_price = 100\n",
    "quantity = int(input(\"\"))\n",
    "total_cost = per_quantity_price * quantity\n",
    "\n",
    "if total_cost > 1000:\n",
    "    without_discount_cost = total_cost\n",
    "    discount = total_cost*.10\n",
    "    final_amount = total_cost - discount\n",
    "    \n",
    "else:\n",
    "    without_discount_cost = total_cost\n",
    "    discount = 0\n",
    "    final_amount = total_cost\n",
    "    \n",
    "print(f\"\"\"\n",
    "    Without Discount Cost : {without_discount_cost}\n",
    "    Per quantity Price : {per_quantity_price}\n",
    "    Quantity           : {quantity}\n",
    "    Discount           : {discount}\n",
    "    Final amount       : {final_amount}\n",
    "\n",
    "\n",
    "\"\"\")"
   ]
  },
  {
   "cell_type": "raw",
   "metadata": {
    "id": "yqYL7FZeMVj3"
   },
   "source": [
    "12) A school has following rules for grading system:\n",
    "\n",
    "a. Below 25 - F\n",
    "\n",
    "b. 25 to 45 - E\n",
    "\n",
    "c. 45 to 50 - D\n",
    "\n",
    "d. 50 to 60 - C\n",
    "\n",
    "e. 60 to 80 - B\n",
    "\n",
    "f. Above 80 - A\n",
    "\n",
    "Ask user to enter marks and print the corresponding grade."
   ]
  },
  {
   "cell_type": "code",
   "execution_count": 22,
   "metadata": {
    "id": "he_r-bpOMVj4"
   },
   "outputs": [
    {
     "name": "stdout",
     "output_type": "stream",
     "text": [
      "101\n",
      "109\n",
      "110\n",
      "\n",
      "    Total Marks : 300\n",
      "    Obtained MArks : 320\n",
      "    PErcentage   : 106.66666666666667\n",
      "    GRade        : A\n",
      "\n",
      "\n"
     ]
    }
   ],
   "source": [
    "grade = None\n",
    "python = int(input(\"\"))\n",
    "javascript = int(input(\"\"))\n",
    "c          = int(input(\"\"))\n",
    "\n",
    "obtained_marks = python + javascript + c\n",
    "perc           = obtained_marks/300 * 100\n",
    "\n",
    "if perc >= 80:\n",
    "    grade = \"A\"\n",
    "    \n",
    "elif perc >= 60 and perc < 80:\n",
    "    grade = \"B\"\n",
    "    \n",
    "elif perc >= 50 and perc < 60:\n",
    "    grade = \"C\"\n",
    "    \n",
    "elif perc >= 45 and perc < 50:\n",
    "    grade = \"D\"\n",
    "    \n",
    "elif perc >= 25 and perc < 45:\n",
    "    grade = \"E\"\n",
    "    \n",
    "else:\n",
    "    grade = \"F\"\n",
    "    \n",
    "print(f\"\"\"\n",
    "    Total Marks : {300}\n",
    "    Obtained MArks : {obtained_marks}\n",
    "    PErcentage   : {perc}\n",
    "    GRade        : {grade}\n",
    "\n",
    "\"\"\")"
   ]
  },
  {
   "cell_type": "raw",
   "metadata": {
    "id": "IUJjt9NbMVj4"
   },
   "source": [
    "13) Take input of age of 3 people by user and determine oldest and youngest among them."
   ]
  },
  {
   "cell_type": "code",
   "execution_count": null,
   "metadata": {
    "id": "vlre5Ck0MVj4"
   },
   "outputs": [],
   "source": [
    "user1 = int(input(\"\"))\n",
    "user2 = int(input(\"\"))\n",
    "user3 = int(Input(\"\"))\n",
    "\n",
    "if user1 > user2 and  user1 > user3:"
   ]
  },
  {
   "cell_type": "raw",
   "metadata": {
    "id": "Zc9ovDhsMVj5"
   },
   "source": [
    "14)A student will not be allowed to sit in exam if his/her attendence is less than 75%.\n",
    "\n",
    "Take following input from user\n",
    "\n",
    "Number of classes held\n",
    "\n",
    "Number of classes attended.\n",
    "\n",
    "And print\n",
    "\n",
    "percentage of class attended\n",
    "\n",
    "Is student is allowed to sit in exam or not.\n"
   ]
  },
  {
   "cell_type": "code",
   "execution_count": 17,
   "metadata": {
    "id": "rseYum2_MVj6"
   },
   "outputs": [
    {
     "name": "stdout",
     "output_type": "stream",
     "text": [
      "Enter a total class300\n",
      "Enter a attented class120\n",
      "\n",
      "    Total classes  : 300\n",
      "    class attented : 120\n",
      "    Percentage     : 40.0\n",
      "    Status         : You are not allowed to sit in exam\n",
      "    \n",
      "\n",
      "\n"
     ]
    }
   ],
   "source": [
    "total_classes = int(input(\"Enter a total class\"))\n",
    "class_attented = int(input(\"Enter a attented class\"))\n",
    "perc = class_attented/total_classes * 100\n",
    "status = None\n",
    "\n",
    "if perc >= 75:\n",
    "    status = \"You are allowed to sit in exam\"\n",
    "    \n",
    "else:\n",
    "     status = \"You are not allowed to sit in exam\"\n",
    "#print(status)\n",
    "\n",
    "print(f\"\"\"\n",
    "    Total classes  : {total_classes}\n",
    "    class attented : {class_attented}\n",
    "    Percentage     : {perc}\n",
    "    Status         : {status}\n",
    "    \n",
    "\n",
    "\"\"\")\n",
    "    \n",
    "    \n",
    "\n"
   ]
  },
  {
   "cell_type": "raw",
   "metadata": {
    "id": "58UPPHAOMVj6"
   },
   "source": [
    "15) Modify the above question to allow student to sit if he/she has medical cause. Ask user if he/she has medical cause or not ( 'Y' or 'N' ) and print accordingly."
   ]
  },
  {
   "cell_type": "code",
   "execution_count": 24,
   "metadata": {
    "id": "lDi-xLzTMVj7"
   },
   "outputs": [
    {
     "name": "stdout",
     "output_type": "stream",
     "text": [
      "Enter a total class200\n",
      "Enter a attented class120\n",
      "is there a medical cause 'yes' or 'not' n\n",
      "\n",
      "    Total classes  : 200\n",
      "    class attented : 120\n",
      "    Percentage     : 60.0\n",
      "    Status         : You are not allowed to sit in exam\n",
      "    \n",
      "\n",
      "\n"
     ]
    }
   ],
   "source": [
    "total_classes = int(input(\"Enter a total class\"))\n",
    "class_attented = int(input(\"Enter a attented class\"))\n",
    "perc = class_attented/total_classes * 100\n",
    "status = None\n",
    "\n",
    "if perc >= 75:\n",
    "    \n",
    "    status = \"You are allowed to sit in exam\"\n",
    "    \n",
    "elif perc < 75:\n",
    "    askuser = input(\"is there a medical cause 'yes' or 'not' \")\n",
    "    if askuser == \"yes\":\n",
    "        status = \"You are allowed to sit in exam\"\n",
    "        \n",
    "    else:     \n",
    "        status = \"You are not allowed to sit in exam\"\n",
    "#print(status)\n",
    "\n",
    "print(f\"\"\"\n",
    "    Total classes  : {total_classes}\n",
    "    class attented : {class_attented}\n",
    "    Percentage     : {perc}\n",
    "    Status         : {status}\n",
    "    \n",
    "\n",
    "\"\"\")\n",
    "    \n",
    "    \n",
    "\n"
   ]
  },
  {
   "cell_type": "raw",
   "metadata": {
    "id": "kJtSy1EoMVj7"
   },
   "source": [
    "16) Write a program to check if a year is leap year or not.\n",
    "\n",
    "If a year is divisible by 4 then it is leap year but if the year is century year like 2000, 1900, 2100 then it must be divisible by 400."
   ]
  },
  {
   "cell_type": "code",
   "execution_count": 39,
   "metadata": {
    "id": "QUL_YUX3MVj7"
   },
   "outputs": [
    {
     "name": "stdout",
     "output_type": "stream",
     "text": [
      "Enter a year2000\n",
      "2000 is a leap year hel\n"
     ]
    }
   ],
   "source": [
    "year = int(input(\"Enter a year\"))\n",
    "\n",
    "if (year%400 == 0) and (year%100 == 0):\n",
    "    print(f\"{year} is a leap year hel\")\n",
    "    \n",
    "elif (year %4 == 0) and (year %100 != 0):\n",
    "    print(f\"{year} is a leap year\")\n",
    "    \n",
    "else:\n",
    "    print(f\"{year} is not a leap year\")"
   ]
  },
  {
   "cell_type": "raw",
   "metadata": {
    "id": "CCNg4yDDMVj8"
   },
   "source": [
    "17) Ask user to enter age, gender ( M or F ), marital status ( Y or N ) and then using following rules print their place of service.\n",
    "\n",
    "if employee is female, then she will work only in urban areas.\n",
    "\n",
    "if employee is a male and age is in between 20 to 40 then he may work in anywhere\n",
    "\n",
    "if employee is male and age is in between 40 t0 60 then he will work in urban areas only.\n",
    "\n",
    "And any other input of age should print \"ERROR\""
   ]
  },
  {
   "cell_type": "code",
   "execution_count": 45,
   "metadata": {
    "id": "RDWMB0CZMVj8"
   },
   "outputs": [
    {
     "name": "stdout",
     "output_type": "stream",
     "text": [
      "Enter a age61\n",
      "Enter a gendermale\n",
      "Are you married 'yes' or 'not' yes\n",
      "error age\n"
     ]
    }
   ],
   "source": [
    "user_age = int(input(\"Enter a age\"))\n",
    "user_gender = input(\"Enter a gender\")\n",
    "maritial_status = input(\"Are you married 'yes' or 'not' \")\n",
    "\n",
    "if user_gender == \"female\":\n",
    "    print(\"you can do work urban areas\")\n",
    "    \n",
    "elif user_gender == \"male\" and user_age >= 20 and user_age <=40:\n",
    "    print(\"you can do work anywhere\")\n",
    "    \n",
    "elif user_gender == \"male\" and user_age >= 40 and user_age <=60:\n",
    "    print(\"you can do work urban area\")\n",
    "    \n",
    "else:\n",
    "    print(\"error age\")"
   ]
  },
  {
   "cell_type": "code",
   "execution_count": null,
   "metadata": {
    "id": "-TG-QI8TMVj9"
   },
   "outputs": [],
   "source": []
  }
 ],
 "metadata": {
  "colab": {
   "name": "If then Else &Elif Practice Task .ipynb",
   "provenance": []
  },
  "kernelspec": {
   "display_name": "Python 3",
   "language": "python",
   "name": "python3"
  },
  "language_info": {
   "codemirror_mode": {
    "name": "ipython",
    "version": 3
   },
   "file_extension": ".py",
   "mimetype": "text/x-python",
   "name": "python",
   "nbconvert_exporter": "python",
   "pygments_lexer": "ipython3",
   "version": "3.7.0"
  }
 },
 "nbformat": 4,
 "nbformat_minor": 1
}
